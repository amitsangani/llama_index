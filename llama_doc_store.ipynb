{
  "nbformat": 4,
  "nbformat_minor": 0,
  "metadata": {
    "colab": {
      "provenance": [],
      "authorship_tag": "ABX9TyNKHw1psqypNgLs2MU6zKts",
      "include_colab_link": true
    },
    "kernelspec": {
      "name": "python3",
      "display_name": "Python 3"
    },
    "language_info": {
      "name": "python"
    }
  },
  "cells": [
    {
      "cell_type": "markdown",
      "metadata": {
        "id": "view-in-github",
        "colab_type": "text"
      },
      "source": [
        "<a href=\"https://colab.research.google.com/github/amitsangani/llama_index/blob/main/llama_doc_store.ipynb\" target=\"_parent\"><img src=\"https://colab.research.google.com/assets/colab-badge.svg\" alt=\"Open In Colab\"/></a>"
      ]
    },
    {
      "cell_type": "code",
      "source": [
        "pip install llama-index"
      ],
      "metadata": {
        "id": "38ot8bmAs7F6"
      },
      "execution_count": null,
      "outputs": []
    },
    {
      "cell_type": "code",
      "source": [
        "import os\n",
        "os.environ['OPENAI_API_KEY'] = \"YOUR_OPEN_API_KEY\""
      ],
      "metadata": {
        "id": "8dpTKQ38tEty"
      },
      "execution_count": 27,
      "outputs": []
    },
    {
      "cell_type": "code",
      "execution_count": 28,
      "metadata": {
        "id": "TXB9mW35smMu"
      },
      "outputs": [],
      "source": [
        "import nest_asyncio\n",
        "nest_asyncio.apply()\n"
      ]
    },
    {
      "cell_type": "code",
      "source": [
        "import logging\n",
        "import sys\n",
        "\n",
        "logging.basicConfig(stream=sys.stdout, level=logging.INFO)\n",
        "logging.getLogger().addHandler(logging.StreamHandler(stream=sys.stdout))"
      ],
      "metadata": {
        "id": "tMSEDoa_sqlt"
      },
      "execution_count": 29,
      "outputs": []
    },
    {
      "cell_type": "code",
      "source": [
        "# from gpt_index.composability.joint_qa_summary import QASummaryGraphBuilder\n",
        "from llama_index import SimpleDirectoryReader, ServiceContext, LLMPredictor\n",
        "from llama_index import GPTSimpleVectorIndex, GPTListIndex, GPTSimpleKeywordTableIndex\n",
        "from llama_index.composability import ComposableGraph\n",
        "from langchain.chat_models import ChatOpenAI\n"
      ],
      "metadata": {
        "id": "iMAkZ-Uiss7V"
      },
      "execution_count": 30,
      "outputs": []
    },
    {
      "cell_type": "code",
      "source": [
        "!mkdir data"
      ],
      "metadata": {
        "colab": {
          "base_uri": "https://localhost:8080/"
        },
        "id": "0LMFeMQRsynW",
        "outputId": "d9676d80-939c-492e-e9e6-a2343b812bc6"
      },
      "execution_count": 31,
      "outputs": [
        {
          "output_type": "stream",
          "name": "stdout",
          "text": [
            "mkdir: cannot create directory ‘data’: File exists\n"
          ]
        }
      ]
    },
    {
      "cell_type": "code",
      "source": [
        "# read from data directory into documents object\n",
        "reader = SimpleDirectoryReader('./data')\n",
        "documents = reader.load_data()\n"
      ],
      "metadata": {
        "id": "-6ENjL4jtS5N"
      },
      "execution_count": 49,
      "outputs": []
    },
    {
      "cell_type": "code",
      "source": [
        "# transfer documents to nodes\n",
        "from llama_index.node_parser import SimpleNodeParser\n",
        "nodes = SimpleNodeParser().get_nodes_from_documents(documents)\n"
      ],
      "metadata": {
        "id": "ovn89svhttvh"
      },
      "execution_count": 50,
      "outputs": []
    },
    {
      "cell_type": "code",
      "source": [
        "# add nodes to document store\n",
        "\n",
        "from llama_index.docstore import DocumentStore\n",
        "docstore = DocumentStore()\n",
        "docstore.add_documents(nodes)"
      ],
      "metadata": {
        "id": "NTAU9C0Ety7V"
      },
      "execution_count": 51,
      "outputs": []
    },
    {
      "cell_type": "code",
      "source": [
        "# define multiple indexes\n",
        "# each index uses the same underlying node\n",
        "\n",
        "list_index = GPTListIndex(nodes, docstore=docstore)"
      ],
      "metadata": {
        "id": "oeRxl7YuuP17"
      },
      "execution_count": 52,
      "outputs": []
    },
    {
      "cell_type": "code",
      "source": [
        "vector_index = GPTSimpleVectorIndex(nodes, docstore=docstore) \n"
      ],
      "metadata": {
        "id": "mBMgtHlow6xp"
      },
      "execution_count": 53,
      "outputs": []
    },
    {
      "cell_type": "code",
      "source": [
        "list_index"
      ],
      "metadata": {
        "colab": {
          "base_uri": "https://localhost:8080/"
        },
        "id": "4M7AcJujuZhA",
        "outputId": "316f7728-ca4e-4f48-ec38-17b96a231be0"
      },
      "execution_count": 54,
      "outputs": [
        {
          "output_type": "execute_result",
          "data": {
            "text/plain": [
              "<llama_index.indices.list.base.GPTListIndex at 0x7f61914b3cd0>"
            ]
          },
          "metadata": {},
          "execution_count": 54
        }
      ]
    },
    {
      "cell_type": "code",
      "source": [
        "list_index.index_struct"
      ],
      "metadata": {
        "colab": {
          "base_uri": "https://localhost:8080/"
        },
        "id": "atLWnZbmubQb",
        "outputId": "c19b8082-6dd8-49ff-ba77-5d3fa1701770"
      },
      "execution_count": 55,
      "outputs": [
        {
          "output_type": "execute_result",
          "data": {
            "text/plain": [
              "IndexList(index_id='26358f50-b936-477c-8414-95bcd88e8502', summary=None, nodes=['99a27c04-6dee-45ab-9a46-bf0407957b08', '4a702ef2-e0a9-4d94-b02e-730338131400', '322ec38c-69ea-4519-86f5-cfe1f2e92c7c'])"
            ]
          },
          "metadata": {},
          "execution_count": 55
        }
      ]
    },
    {
      "cell_type": "code",
      "source": [
        "keyword_table_index = GPTSimpleKeywordTableIndex(nodes, docstore=docstore) \n"
      ],
      "metadata": {
        "id": "iKAZaqnKuhDT"
      },
      "execution_count": 56,
      "outputs": []
    },
    {
      "cell_type": "code",
      "source": [
        "# NOTE: the docstore still has the same nodes\n",
        "len(docstore.docs)\n"
      ],
      "metadata": {
        "colab": {
          "base_uri": "https://localhost:8080/"
        },
        "id": "JeGxsj8KukBK",
        "outputId": "7f589b06-87c7-4d86-f225-76c9d9275ea4"
      },
      "execution_count": 57,
      "outputs": [
        {
          "output_type": "execute_result",
          "data": {
            "text/plain": [
              "3"
            ]
          },
          "metadata": {},
          "execution_count": 57
        }
      ]
    },
    {
      "cell_type": "code",
      "source": [
        "llm_predictor_chatgpt = LLMPredictor(llm=ChatOpenAI(temperature=0, model_name=\"gpt-4\"))\n",
        "service_context_chatgpt = ServiceContext.from_defaults(llm_predictor=llm_predictor_chatgpt, chunk_size_limit=1024)\n"
      ],
      "metadata": {
        "id": "60g-8ys8uqo_"
      },
      "execution_count": 58,
      "outputs": []
    },
    {
      "cell_type": "code",
      "source": [
        "response = list_index.query(\"What is a summary of this document?\") \n"
      ],
      "metadata": {
        "id": "g7tabF8gutIN"
      },
      "execution_count": 59,
      "outputs": []
    },
    {
      "cell_type": "code",
      "source": [
        "print(response)"
      ],
      "metadata": {
        "colab": {
          "base_uri": "https://localhost:8080/"
        },
        "id": "NamNG3VluyCB",
        "outputId": "9110b13b-eff8-40c3-e216-9116eb0dadf4"
      },
      "execution_count": 60,
      "outputs": [
        {
          "output_type": "stream",
          "name": "stdout",
          "text": [
            "\n",
            "\n",
            "Aladdin is a poor tailor's son who is idle and does not take care of his mother. One day, a stranger claiming to be his uncle arrives and offers to buy him a shop. The uncle then takes Aladdin to a mountain, where he reveals a hidden treasure and tells Aladdin to bring him a lamp from it. Aladdin obtains the lamp and discovers it is magical, with a genie who grants him wishes. Aladdin's mother sells the lamp to buy food, and Aladdin uses the genie to bring him a feast. When the Sultan's daughter is to be married, Aladdin uses the genie to transport her and her bridegroom to his home. The Sultan is impressed by Aladdin's wealth and agrees to the marriage, but sets a condition that Aladdin must bring him forty basins of gold filled with jewels. Aladdin uses the genie to fulfill the condition, summoning the genie to provide eighty slaves, richly dressed with jewels, to carry the basins of gold to the palace. Aladdin also uses the genie to provide himself and his mother with luxurious clothing, horses, and slaves, as well as ten thousand pieces of gold in ten purses. The Sultan agrees to the marriage after seeing\n"
          ]
        }
      ]
    },
    {
      "cell_type": "code",
      "source": [
        "response = vector_index.query(\"Who gave Aladin a magic lamp?\") \n",
        "print(response)"
      ],
      "metadata": {
        "colab": {
          "base_uri": "https://localhost:8080/"
        },
        "id": "REtw6HLBwgew",
        "outputId": "d6c45583-e03b-4fe0-e829-b2be8c29646c"
      },
      "execution_count": 61,
      "outputs": [
        {
          "output_type": "stream",
          "name": "stdout",
          "text": [
            "\n",
            "\n",
            "The magic lamp was given to Aladdin by an African magician who claimed to be his uncle and summoned the genie to provide Aladdin with a scented bath, a richly embroidered habit, a horse surpassing the Sultan's, and twenty slaves to attend him, as well as six slaves to wait on his mother and ten thousand pieces of gold in ten purses.\n"
          ]
        }
      ]
    },
    {
      "cell_type": "code",
      "source": [
        "response = keyword_table_index.query(\"What was the relationship between Sultan and Aladdin?\")\n",
        "print(response)"
      ],
      "metadata": {
        "colab": {
          "base_uri": "https://localhost:8080/"
        },
        "id": "RIBgN53ewxUm",
        "outputId": "cc8223d7-e330-4478-eece-fe4616c8e4c1"
      },
      "execution_count": 62,
      "outputs": [
        {
          "output_type": "stream",
          "name": "stdout",
          "text": [
            "\n",
            "\n",
            "The Sultan and Aladdin had no prior relationship. The Sultan initially did not know Aladdin, but eventually agreed to give his daughter's hand in marriage to Aladdin after Aladdin's mother presented the Sultan with forty basins of gold filled with jewels and eighty slaves, all of whom were richly dressed and carrying splendid jewels. Aladdin also asked the genie for a scented bath, a richly embroidered habit, a horse surpassing the Sultan's, twenty slaves to attend him, six slaves to wait on his mother, and ten thousand pieces of gold in ten purses. The Sultan was so impressed by Aladdin's wealth and generosity that he agreed to the marriage. However, Aladdin's palace was stolen by an African magician, who wanted the Princess to marry him instead. Aladdin was able to rescue the Princess and the palace with the help of the genie of the lamp, and the Sultan was so pleased with Aladdin's courage and resourcefulness that he welcomed him back with open arms and allowed him to marry his daughter. The African magician's brother then attempted to avenge his brother's death by murdering a pious woman and disguising himself as her to gain access to the palace. Aladdin was able to protect the Princess and the\n"
          ]
        }
      ]
    },
    {
      "cell_type": "code",
      "source": [
        "response = keyword_table_index.query(\"Which school did the author go to?\")\n",
        "print(response)"
      ],
      "metadata": {
        "colab": {
          "base_uri": "https://localhost:8080/"
        },
        "id": "Al6Sz7FVxIvm",
        "outputId": "0949ed67-235e-4ddb-d19d-0321fa8b94f1"
      },
      "execution_count": 45,
      "outputs": [
        {
          "output_type": "stream",
          "name": "stdout",
          "text": [
            "\n",
            "\n",
            "The author went to Harvard for their undergraduate degree, Cornell for their graduate degree, the Rhode Island School of Design (RISD), and the Accademia di Belli Arti in Florence, where they started painting still lives in their bedroom at night.\n"
          ]
        }
      ]
    },
    {
      "cell_type": "code",
      "source": [
        "response = keyword_table_index.query(\"Who was Fatima?\")\n",
        "print(response)"
      ],
      "metadata": {
        "colab": {
          "base_uri": "https://localhost:8080/"
        },
        "id": "8dyHBpVyygog",
        "outputId": "275f75ae-bc5a-4227-976b-c8162f4cc95a"
      },
      "execution_count": 63,
      "outputs": [
        {
          "output_type": "stream",
          "name": "stdout",
          "text": [
            "\n",
            "Fatima was a pious woman whom the African magician visited in China in order to avenge his brother's death. The magician disguised himself as Fatima and murdered her in order to prevent her from telling anyone about his plan. The magician then used Fatima's disguise to gain access to the palace of Aladdin, where he was mistaken for the holy woman.\n"
          ]
        }
      ]
    },
    {
      "cell_type": "code",
      "source": [
        "response = keyword_table_index.query(\"Who was Aladdin's wife?\")\n",
        "print(response)"
      ],
      "metadata": {
        "colab": {
          "base_uri": "https://localhost:8080/"
        },
        "id": "dmYiOOIs2Vet",
        "outputId": "34dcb2ee-fc52-4684-f5ae-aeae353e75a7"
      },
      "execution_count": 65,
      "outputs": [
        {
          "output_type": "stream",
          "name": "stdout",
          "text": [
            "\n",
            "\n",
            "Aladdin's wife was the Sultan's daughter, the Princess. He was summoned to the palace to meet her and the Sultan, and he was given a scented bath, a richly embroidered habit, a horse surpassing the Sultan's, and twenty slaves to attend him, as well as six slaves to wait on his mother and ten thousand pieces of gold in ten purses. After being deceived by a wicked magician disguised as the holy woman Fatima, Aladdin and the Princess lived in peace and he eventually succeeded the Sultan when he died, and reigned for many years, leaving behind him a long line of kings. The Princess was charmed at the sight of Aladdin, who ran to receive her. \"Princess,\" he said, \"blame your beauty for my boldness if I have displeased you.\" She told him that, having seen him, she willingly obeyed her father in this matter. After the wedding had taken place, Aladdin led her into the hall, where a feast was spread, and she supped with him, after which they danced till midnight. Unfortunately, the wicked magician had discovered Aladdin's good fortune and had stolen the magic lamp, using it to transport the palace and the Princess to Africa. Al\n"
          ]
        }
      ]
    },
    {
      "cell_type": "code",
      "source": [],
      "metadata": {
        "id": "Gw6SsQSO2yiE"
      },
      "execution_count": null,
      "outputs": []
    }
  ]
}